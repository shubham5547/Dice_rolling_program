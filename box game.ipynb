{
 "cells": [
  {
   "cell_type": "code",
   "execution_count": 36,
   "metadata": {},
   "outputs": [],
   "source": [
    "\n",
    "def display_board(board):\n",
    "    \n",
    "    print('  |   |')\n",
    "    print(board[7]+'|'+board[8]+'|'+board[9])\n",
    "    print('  |   |')\n",
    "    print('-----------')\n",
    "    print('  |   |')\n",
    "    print(board[4]+'|'+board[5]+'|'+board[6])\n",
    "    print('  |   |')\n",
    "    print('-----------')\n",
    "    print('  |   |')\n",
    "    print(board[1]+'|'+board[2]+'|'+board[3])\n",
    "    print('  |   |')\n",
    "   "
   ]
  },
  {
   "cell_type": "code",
   "execution_count": 37,
   "metadata": {},
   "outputs": [
    {
     "name": "stdout",
     "output_type": "stream",
     "text": [
      "  |   |\n",
      "x|o|x\n",
      "  |   |\n",
      "-----------\n",
      "  |   |\n",
      "o|x|o\n",
      "  |   |\n",
      "-----------\n",
      "  |   |\n",
      "x|o|x\n",
      "  |   |\n",
      "  |   |\n",
      "x|o|x\n",
      "  |   |\n",
      "-----------\n",
      "  |   |\n",
      "o|x|o\n",
      "  |   |\n",
      "-----------\n",
      "  |   |\n",
      "x|o|x\n",
      "  |   |\n"
     ]
    }
   ],
   "source": [
    "test_board = ['#','x','o','x','o','x','o','x','o','x']\n",
    "display_board(test_board)\n",
    "display_board(test_board)"
   ]
  },
  {
   "cell_type": "code",
   "execution_count": 38,
   "metadata": {},
   "outputs": [
    {
     "name": "stdout",
     "output_type": "stream",
     "text": [
      "textstep2: write a function that can take in a player input and assign their marker as 'xor;o. think about using while loops to continually ask untill you get a correct answer\n"
     ]
    },
    {
     "data": {
      "text/plain": [
       "\"step2: write a function that can take in a player input and assign their marker as 'xor;o. think about using while loops to continually ask untill you get a correct answer\""
      ]
     },
     "execution_count": 38,
     "metadata": {},
     "output_type": "execute_result"
    }
   ],
   "source": [
    "input('text')"
   ]
  },
  {
   "cell_type": "code",
   "execution_count": 10,
   "metadata": {},
   "outputs": [],
   "source": [
    "def player_input():\n",
    "    \n",
    "    '''\n",
    "    OUTPUT = (Player 1 marker, Player 2 marker)\n",
    "    '''\n",
    "    \n",
    "    marker = ''\n",
    "    \n",
    "    while marker!= 'x' and marker != 'o':\n",
    "        marker = input('Player1: choose x ot o: ').upper()\n",
    "        \n",
    "    if marker == 'x':\n",
    "        \n",
    "        return('x','o')\n",
    "    else:\n",
    "        return('o','x')"
   ]
  },
  {
   "cell_type": "code",
   "execution_count": null,
   "metadata": {},
   "outputs": [
    {
     "name": "stdout",
     "output_type": "stream",
     "text": [
      "Player1: choose x ot o: x\n"
     ]
    }
   ],
   "source": [
    "player1_marker,player2_marker = player_input()"
   ]
  },
  {
   "cell_type": "code",
   "execution_count": null,
   "metadata": {},
   "outputs": [],
   "source": [
    "player2_marker\n"
   ]
  },
  {
   "cell_type": "code",
   "execution_count": null,
   "metadata": {},
   "outputs": [],
   "source": []
  },
  {
   "cell_type": "code",
   "execution_count": null,
   "metadata": {},
   "outputs": [],
   "source": []
  }
 ],
 "metadata": {
  "kernelspec": {
   "display_name": "Python 3",
   "language": "python",
   "name": "python3"
  },
  "language_info": {
   "codemirror_mode": {
    "name": "ipython",
    "version": 3
   },
   "file_extension": ".py",
   "mimetype": "text/x-python",
   "name": "python",
   "nbconvert_exporter": "python",
   "pygments_lexer": "ipython3",
   "version": "3.7.6"
  }
 },
 "nbformat": 4,
 "nbformat_minor": 4
}
